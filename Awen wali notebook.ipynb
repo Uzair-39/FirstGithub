{
 "cells": [
  {
   "cell_type": "code",
   "execution_count": 1,
   "id": "b1d20a2c",
   "metadata": {},
   "outputs": [
    {
     "name": "stdout",
     "output_type": "stream",
     "text": [
      "python ka chilla with baba ammar\n"
     ]
    }
   ],
   "source": [
    "print(\"python ka chilla with baba ammar\")"
   ]
  }
 ],
 "metadata": {
  "kernelspec": {
   "display_name": "Python 3 (ipykernel)",
   "language": "python",
   "name": "python3"
  },
  "language_info": {
   "codemirror_mode": {
    "name": "ipython",
    "version": 3
   },
   "file_extension": ".py",
   "mimetype": "text/x-python",
   "name": "python",
   "nbconvert_exporter": "python",
   "pygments_lexer": "ipython3",
   "version": "3.11.5"
  }
 },
 "nbformat": 4,
 "nbformat_minor": 5
}
