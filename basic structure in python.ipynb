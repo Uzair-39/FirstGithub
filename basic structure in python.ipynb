{
 "cells": [
  {
   "cell_type": "markdown",
   "id": "3593dd0e",
   "metadata": {},
   "source": [
    "# basic data structure in python\n",
    "1. Tuple\n",
    "2. List \n",
    "3. Dictionaries\n",
    "4. Set"
   ]
  },
  {
   "cell_type": "markdown",
   "id": "6dc0a6ed",
   "metadata": {},
   "source": [
    "# 1.Tuple\n",
    "- Ordered collection of elements\n",
    "- enclosed in () rounds paranthesis\n",
    "- different kind of elements can be stored\n",
    "- once elements are stored you can not change them (unmutable)"
   ]
  },
  {
   "cell_type": "code",
   "execution_count": 1,
   "id": "5b20b8b2",
   "metadata": {},
   "outputs": [
    {
     "data": {
      "text/plain": [
       "(1, 'python', True, 2.5)"
      ]
     },
     "execution_count": 1,
     "metadata": {},
     "output_type": "execute_result"
    }
   ],
   "source": [
    "tup1 = (1, \"python\", True, 2.5)\n",
    "tup1"
   ]
  },
  {
   "cell_type": "code",
   "execution_count": 2,
   "id": "689f90d1",
   "metadata": {},
   "outputs": [
    {
     "data": {
      "text/plain": [
       "tuple"
      ]
     },
     "execution_count": 2,
     "metadata": {},
     "output_type": "execute_result"
    }
   ],
   "source": [
    "#type of tuple\n",
    "type(tup1)"
   ]
  },
  {
   "cell_type": "markdown",
   "id": "1b495fb0",
   "metadata": {},
   "source": [
    "### - indexing in tuple"
   ]
  },
  {
   "cell_type": "code",
   "execution_count": 7,
   "id": "aebb8551",
   "metadata": {},
   "outputs": [
    {
     "data": {
      "text/plain": [
       "'python'"
      ]
     },
     "execution_count": 7,
     "metadata": {},
     "output_type": "execute_result"
    }
   ],
   "source": [
    "tup1[1]"
   ]
  },
  {
   "cell_type": "code",
   "execution_count": 8,
   "id": "a1d6226b",
   "metadata": {},
   "outputs": [
    {
     "data": {
      "text/plain": [
       "True"
      ]
     },
     "execution_count": 8,
     "metadata": {},
     "output_type": "execute_result"
    }
   ],
   "source": [
    "tup1[2]"
   ]
  },
  {
   "cell_type": "code",
   "execution_count": 12,
   "id": "9c6ee337",
   "metadata": {},
   "outputs": [
    {
     "data": {
      "text/plain": [
       "(1, 'python', True)"
      ]
     },
     "execution_count": 12,
     "metadata": {},
     "output_type": "execute_result"
    }
   ],
   "source": [
    "#last element exclussive\n",
    "tup1[0:3]"
   ]
  },
  {
   "cell_type": "code",
   "execution_count": 13,
   "id": "1e7f64e3",
   "metadata": {},
   "outputs": [
    {
     "data": {
      "text/plain": [
       "4"
      ]
     },
     "execution_count": 13,
     "metadata": {},
     "output_type": "execute_result"
    }
   ],
   "source": [
    "#count of elements in tuple\n",
    "len(tup1)"
   ]
  },
  {
   "cell_type": "code",
   "execution_count": 17,
   "id": "041d7543",
   "metadata": {},
   "outputs": [
    {
     "data": {
      "text/plain": [
       "(2, 'uzair', 3.5, False)"
      ]
     },
     "execution_count": 17,
     "metadata": {},
     "output_type": "execute_result"
    }
   ],
   "source": [
    "tup2 = (2, \"uzair\", 3.5, False)\n",
    "tup2"
   ]
  },
  {
   "cell_type": "code",
   "execution_count": 18,
   "id": "8193a332",
   "metadata": {},
   "outputs": [
    {
     "data": {
      "text/plain": [
       "(1, 'python', True, 2.5, 2, 'uzair', 3.5, False)"
      ]
     },
     "execution_count": 18,
     "metadata": {},
     "output_type": "execute_result"
    }
   ],
   "source": [
    "#concatinate(to add two or more than two tuples)\n",
    "tup1+tup2"
   ]
  },
  {
   "cell_type": "code",
   "execution_count": 21,
   "id": "62645ef4",
   "metadata": {},
   "outputs": [
    {
     "data": {
      "text/plain": [
       "(1, 'python', True, 2.5, 1, 'python', True, 2.5, 2, 'uzair', 3.5, False)"
      ]
     },
     "execution_count": 21,
     "metadata": {},
     "output_type": "execute_result"
    }
   ],
   "source": [
    "#concatinate + repeat \n",
    "tup1*2+tup2"
   ]
  },
  {
   "cell_type": "code",
   "execution_count": 22,
   "id": "763f4dd2",
   "metadata": {},
   "outputs": [
    {
     "data": {
      "text/plain": [
       "(3, 4, 5, 34, 334)"
      ]
     },
     "execution_count": 22,
     "metadata": {},
     "output_type": "execute_result"
    }
   ],
   "source": [
    "tup3 = (3, 4, 5,34, 334,)\n",
    "tup3"
   ]
  },
  {
   "cell_type": "code",
   "execution_count": 27,
   "id": "c2e27205",
   "metadata": {
    "scrolled": true
   },
   "outputs": [
    {
     "data": {
      "text/plain": [
       "334"
      ]
     },
     "execution_count": 27,
     "metadata": {},
     "output_type": "execute_result"
    }
   ],
   "source": [
    "# minimum or max value to tuple\n",
    "max(tup3)"
   ]
  },
  {
   "cell_type": "code",
   "execution_count": 30,
   "id": "e7c2adc7",
   "metadata": {},
   "outputs": [
    {
     "data": {
      "text/plain": [
       "(3, 4, 5, 34, 334, 3, 4, 5, 34, 334, 3, 4, 5, 34, 334)"
      ]
     },
     "execution_count": 30,
     "metadata": {},
     "output_type": "execute_result"
    }
   ],
   "source": [
    "tup3*3"
   ]
  },
  {
   "cell_type": "markdown",
   "id": "1497b2c7",
   "metadata": {},
   "source": [
    "---"
   ]
  },
  {
   "cell_type": "markdown",
   "id": "e6146c4f",
   "metadata": {},
   "source": [
    "## 2- list\n",
    "- ordered collectioin of elements\n",
    "- enclosed in [ ] square brackets\n",
    "- mutateable, you can change the value"
   ]
  },
  {
   "cell_type": "code",
   "execution_count": 32,
   "id": "b8cf1b67",
   "metadata": {},
   "outputs": [
    {
     "data": {
      "text/plain": [
       "[1, 'python', True]"
      ]
     },
     "execution_count": 32,
     "metadata": {},
     "output_type": "execute_result"
    }
   ],
   "source": [
    "list1 = [1, \"python\", True]\n",
    "list1"
   ]
  },
  {
   "cell_type": "code",
   "execution_count": 33,
   "id": "a3e2b244",
   "metadata": {},
   "outputs": [
    {
     "data": {
      "text/plain": [
       "list"
      ]
     },
     "execution_count": 33,
     "metadata": {},
     "output_type": "execute_result"
    }
   ],
   "source": [
    "type(list1)"
   ]
  },
  {
   "cell_type": "code",
   "execution_count": 34,
   "id": "4a82f818",
   "metadata": {},
   "outputs": [
    {
     "data": {
      "text/plain": [
       "3"
      ]
     },
     "execution_count": 34,
     "metadata": {},
     "output_type": "execute_result"
    }
   ],
   "source": [
    "len(list1)"
   ]
  },
  {
   "cell_type": "code",
   "execution_count": 35,
   "id": "a54dfc29",
   "metadata": {},
   "outputs": [
    {
     "data": {
      "text/plain": [
       "True"
      ]
     },
     "execution_count": 35,
     "metadata": {},
     "output_type": "execute_result"
    }
   ],
   "source": [
    "list1[2]"
   ]
  },
  {
   "cell_type": "code",
   "execution_count": 36,
   "id": "bb24bd5a",
   "metadata": {},
   "outputs": [
    {
     "data": {
      "text/plain": [
       "[2, 4, 'uzair', 'ahmad', 786, False]"
      ]
     },
     "execution_count": 36,
     "metadata": {},
     "output_type": "execute_result"
    }
   ],
   "source": [
    "list2 = [2, 4, 'uzair', 'ahmad', 786, False]\n",
    "list2"
   ]
  },
  {
   "cell_type": "code",
   "execution_count": 37,
   "id": "5ebbe296",
   "metadata": {},
   "outputs": [
    {
     "data": {
      "text/plain": [
       "[1, 'python', True, 2, 4, 'uzair', 'ahmad', 786, False]"
      ]
     },
     "execution_count": 37,
     "metadata": {},
     "output_type": "execute_result"
    }
   ],
   "source": [
    "list1 + list2"
   ]
  },
  {
   "cell_type": "code",
   "execution_count": 38,
   "id": "2a7d8652",
   "metadata": {},
   "outputs": [
    {
     "data": {
      "text/plain": [
       "[1, 'python', True, 1, 'python', True, 2, 4, 'uzair', 'ahmad', 786, False]"
      ]
     },
     "execution_count": 38,
     "metadata": {},
     "output_type": "execute_result"
    }
   ],
   "source": [
    "list1*2+list2"
   ]
  },
  {
   "cell_type": "code",
   "execution_count": 44,
   "id": "73a2ac19",
   "metadata": {
    "scrolled": true
   },
   "outputs": [
    {
     "data": {
      "text/plain": [
       "[True, 'python', 1]"
      ]
     },
     "execution_count": 44,
     "metadata": {},
     "output_type": "execute_result"
    }
   ],
   "source": [
    "list1.reverse()\n",
    "list1"
   ]
  },
  {
   "cell_type": "code",
   "execution_count": 50,
   "id": "401e2db9",
   "metadata": {
    "scrolled": false
   },
   "outputs": [
    {
     "data": {
      "text/plain": [
       "[True,\n",
       " 'python',\n",
       " 1,\n",
       " 'Uzair Ahmad',\n",
       " 'Uzair Ahmad',\n",
       " 'Uzair Ahmad',\n",
       " 'Uzair Ahmad',\n",
       " 'Uzair Ahmad',\n",
       " 'Uzair Ahmad']"
      ]
     },
     "execution_count": 50,
     "metadata": {},
     "output_type": "execute_result"
    }
   ],
   "source": [
    "list1.append(\"Uzair Ahmad\")\n",
    "list1"
   ]
  },
  {
   "cell_type": "code",
   "execution_count": 55,
   "id": "80141576",
   "metadata": {},
   "outputs": [
    {
     "data": {
      "text/plain": [
       "[20, 30, 40, 5, 70, 50, 60, 70, 4, 0, 80]"
      ]
     },
     "execution_count": 55,
     "metadata": {},
     "output_type": "execute_result"
    }
   ],
   "source": [
    "list3 = [20, 30, 40,5,70, 50, 60, 70,4,0, 80,]\n",
    "list3"
   ]
  },
  {
   "cell_type": "code",
   "execution_count": 56,
   "id": "6ae3660e",
   "metadata": {},
   "outputs": [
    {
     "data": {
      "text/plain": [
       "11"
      ]
     },
     "execution_count": 56,
     "metadata": {},
     "output_type": "execute_result"
    }
   ],
   "source": [
    "len(list3)"
   ]
  },
  {
   "cell_type": "code",
   "execution_count": 57,
   "id": "7ba1ca6f",
   "metadata": {},
   "outputs": [
    {
     "data": {
      "text/plain": [
       "[0, 4, 5, 20, 30, 40, 50, 60, 70, 70, 80]"
      ]
     },
     "execution_count": 57,
     "metadata": {},
     "output_type": "execute_result"
    }
   ],
   "source": [
    "#sorting a list\n",
    "list3.sort()\n",
    "list3"
   ]
  },
  {
   "cell_type": "code",
   "execution_count": 59,
   "id": "3619df52",
   "metadata": {},
   "outputs": [
    {
     "data": {
      "text/plain": [
       "[0,\n",
       " 4,\n",
       " 5,\n",
       " 20,\n",
       " 30,\n",
       " 40,\n",
       " 50,\n",
       " 60,\n",
       " 70,\n",
       " 70,\n",
       " 80,\n",
       " 0,\n",
       " 4,\n",
       " 5,\n",
       " 20,\n",
       " 30,\n",
       " 40,\n",
       " 50,\n",
       " 60,\n",
       " 70,\n",
       " 70,\n",
       " 80]"
      ]
     },
     "execution_count": 59,
     "metadata": {},
     "output_type": "execute_result"
    }
   ],
   "source": [
    "list3*2"
   ]
  },
  {
   "cell_type": "code",
   "execution_count": 60,
   "id": "f37352e2",
   "metadata": {},
   "outputs": [
    {
     "data": {
      "text/plain": [
       "[True,\n",
       " 'python',\n",
       " 1,\n",
       " 'Uzair Ahmad',\n",
       " 'Uzair Ahmad',\n",
       " 'Uzair Ahmad',\n",
       " 'Uzair Ahmad',\n",
       " 'Uzair Ahmad',\n",
       " 'Uzair Ahmad',\n",
       " 0,\n",
       " 4,\n",
       " 5,\n",
       " 20,\n",
       " 30,\n",
       " 40,\n",
       " 50,\n",
       " 60,\n",
       " 70,\n",
       " 70,\n",
       " 80]"
      ]
     },
     "execution_count": 60,
     "metadata": {},
     "output_type": "execute_result"
    }
   ],
   "source": [
    "list1+list3"
   ]
  },
  {
   "cell_type": "markdown",
   "id": "092f412f",
   "metadata": {},
   "source": [
    "## 3-dictionaries\n",
    "- An unordered collection of elements\n",
    "- key and value\n",
    "- curly braces or brackets { }\n",
    "- mutateable/ you can change the value\n",
    "- "
   ]
  },
  {
   "cell_type": "code",
   "execution_count": 63,
   "id": "39dc3e9b",
   "metadata": {},
   "outputs": [
    {
     "data": {
      "text/plain": [
       "{'somosa': 30, 'raita': 30, 'pakora': 100, 'salad': 50, 'chicken roles': 40}"
      ]
     },
     "execution_count": 63,
     "metadata": {},
     "output_type": "execute_result"
    }
   ],
   "source": [
    "#food and their prices\n",
    "food1 = {\"somosa\":30, \"raita\":30, \"pakora\":100, \"salad\":50, \"chicken roles\": 40}\n",
    "food1"
   ]
  },
  {
   "cell_type": "code",
   "execution_count": 64,
   "id": "f30d0ffa",
   "metadata": {},
   "outputs": [
    {
     "data": {
      "text/plain": [
       "dict"
      ]
     },
     "execution_count": 64,
     "metadata": {},
     "output_type": "execute_result"
    }
   ],
   "source": [
    "type(food1)"
   ]
  },
  {
   "cell_type": "code",
   "execution_count": 67,
   "id": "730231c4",
   "metadata": {},
   "outputs": [
    {
     "data": {
      "text/plain": [
       "dict_keys(['somosa', 'raita', 'pakora', 'salad', 'chicken roles'])"
      ]
     },
     "execution_count": 67,
     "metadata": {},
     "output_type": "execute_result"
    }
   ],
   "source": [
    "#extract data\n",
    "keys1 = food1.keys()\n",
    "keys1"
   ]
  },
  {
   "cell_type": "code",
   "execution_count": 70,
   "id": "a4a912c6",
   "metadata": {},
   "outputs": [
    {
     "data": {
      "text/plain": [
       "dict_values([30, 30, 100, 50, 40])"
      ]
     },
     "execution_count": 70,
     "metadata": {},
     "output_type": "execute_result"
    }
   ],
   "source": [
    "values = food1.values()\n",
    "values"
   ]
  },
  {
   "cell_type": "code",
   "execution_count": 72,
   "id": "9cf859e2",
   "metadata": {},
   "outputs": [
    {
     "data": {
      "text/plain": [
       "{'somosa': 30,\n",
       " 'raita': 30,\n",
       " 'pakora': 100,\n",
       " 'salad': 50,\n",
       " 'chicken roles': 40,\n",
       " 'tikki': 20}"
      ]
     },
     "execution_count": 72,
     "metadata": {},
     "output_type": "execute_result"
    }
   ],
   "source": [
    "#adding new element\n",
    "food1[\"tikki\"]=20\n",
    "food1"
   ]
  },
  {
   "cell_type": "code",
   "execution_count": 73,
   "id": "33492595",
   "metadata": {},
   "outputs": [
    {
     "data": {
      "text/plain": [
       "{'somosa': 30,\n",
       " 'raita': 30,\n",
       " 'pakora': 100,\n",
       " 'salad': 50,\n",
       " 'chicken roles': 40,\n",
       " 'tikki': 30}"
      ]
     },
     "execution_count": 73,
     "metadata": {},
     "output_type": "execute_result"
    }
   ],
   "source": [
    "#update the values\n",
    "food1[\"tikki\"]=30\n",
    "food1"
   ]
  },
  {
   "cell_type": "code",
   "execution_count": 75,
   "id": "9239bd33",
   "metadata": {},
   "outputs": [
    {
     "data": {
      "text/plain": [
       "{'Dates': 50, 'choclates': 200, 'sawaiyan': 1000}"
      ]
     },
     "execution_count": 75,
     "metadata": {},
     "output_type": "execute_result"
    }
   ],
   "source": [
    "food2 = {\"Dates\":50, \"choclates\":200, \"sawaiyan\":1000}\n",
    "food2"
   ]
  },
  {
   "cell_type": "code",
   "execution_count": 78,
   "id": "c15261b7",
   "metadata": {},
   "outputs": [],
   "source": [
    "#concatinate\n",
    "food1.update(food2)"
   ]
  },
  {
   "cell_type": "code",
   "execution_count": 79,
   "id": "33be1710",
   "metadata": {},
   "outputs": [
    {
     "data": {
      "text/plain": [
       "{'somosa': 30,\n",
       " 'raita': 30,\n",
       " 'pakora': 100,\n",
       " 'salad': 50,\n",
       " 'chicken roles': 40,\n",
       " 'tikki': 30,\n",
       " 'Dates': 50,\n",
       " 'choclates': 200,\n",
       " 'sawaiyan': 1000}"
      ]
     },
     "execution_count": 79,
     "metadata": {},
     "output_type": "execute_result"
    }
   ],
   "source": [
    "food1"
   ]
  },
  {
   "cell_type": "markdown",
   "id": "803e279a",
   "metadata": {},
   "source": [
    "## 4- Set\n",
    "- unordered and unidexed\n",
    "- curly braces are used { }\n",
    "- no duplicates allows"
   ]
  },
  {
   "cell_type": "code",
   "execution_count": 81,
   "id": "768aa28a",
   "metadata": {},
   "outputs": [
    {
     "data": {
      "text/plain": [
       "{1, 1.5, 6.7, 'lahore', 'uzair'}"
      ]
     },
     "execution_count": 81,
     "metadata": {},
     "output_type": "execute_result"
    }
   ],
   "source": [
    "s1 = {1, 1.5, 6.7, \"uzair\", \"lahore\", True}\n",
    "s1"
   ]
  },
  {
   "cell_type": "code",
   "execution_count": 82,
   "id": "23f5847c",
   "metadata": {},
   "outputs": [],
   "source": [
    "s1.add(\"Ahmad\")"
   ]
  },
  {
   "cell_type": "code",
   "execution_count": 83,
   "id": "07f164af",
   "metadata": {},
   "outputs": [
    {
     "data": {
      "text/plain": [
       "{1, 1.5, 6.7, 'Ahmad', 'lahore', 'uzair'}"
      ]
     },
     "execution_count": 83,
     "metadata": {},
     "output_type": "execute_result"
    }
   ],
   "source": [
    "s1"
   ]
  },
  {
   "cell_type": "code",
   "execution_count": 86,
   "id": "1772257f",
   "metadata": {},
   "outputs": [],
   "source": [
    "s1.remove(\"Ahmad\")"
   ]
  },
  {
   "cell_type": "code",
   "execution_count": 87,
   "id": "35771d58",
   "metadata": {},
   "outputs": [
    {
     "data": {
      "text/plain": [
       "{1, 1.5, 6.7, 'lahore', 'uzair'}"
      ]
     },
     "execution_count": 87,
     "metadata": {},
     "output_type": "execute_result"
    }
   ],
   "source": [
    "s1"
   ]
  },
  {
   "cell_type": "code",
   "execution_count": 88,
   "id": "6c6febe6",
   "metadata": {},
   "outputs": [
    {
     "data": {
      "text/plain": [
       "{1, 1.5, 6.7, 'lahore', 'uzair'}"
      ]
     },
     "execution_count": 88,
     "metadata": {},
     "output_type": "execute_result"
    }
   ],
   "source": [
    "s1.copy()"
   ]
  },
  {
   "cell_type": "code",
   "execution_count": null,
   "id": "faa2d81a",
   "metadata": {},
   "outputs": [],
   "source": []
  }
 ],
 "metadata": {
  "kernelspec": {
   "display_name": "Python 3 (ipykernel)",
   "language": "python",
   "name": "python3"
  },
  "language_info": {
   "codemirror_mode": {
    "name": "ipython",
    "version": 3
   },
   "file_extension": ".py",
   "mimetype": "text/x-python",
   "name": "python",
   "nbconvert_exporter": "python",
   "pygments_lexer": "ipython3",
   "version": "3.11.5"
  }
 },
 "nbformat": 4,
 "nbformat_minor": 5
}
