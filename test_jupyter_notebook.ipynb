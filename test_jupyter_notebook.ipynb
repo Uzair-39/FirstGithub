{
 "cells": [
  {
   "cell_type": "markdown",
   "id": "e5cca71f",
   "metadata": {},
   "source": [
    "# python ka chilla with baba ammar\n",
    "## how to use jupyter note book\n",
    "### our basics of python\n",
    "#**1- my first program**\n",
    "\n",
    "\"\"2- my second program\"\""
   ]
  },
  {
   "cell_type": "code",
   "execution_count": null,
   "id": "8eff4caa",
   "metadata": {},
   "outputs": [],
   "source": [
    "# my first prograam\n",
    "print(\"hello world\")\n",
    "print(\"we are learning python with ammar\")\n",
    "print('Test for single quotes')\n",
    "print(\"test for double quotes\")\n",
    "print('''test for triple quotes''')\n",
    "\n",
    "print(\"What's up\")"
   ]
  },
  {
   "cell_type": "markdown",
   "id": "98c46c9c",
   "metadata": {},
   "source": [
    "**02 operaters**"
   ]
  },
  {
   "cell_type": "code",
   "execution_count": 2,
   "id": "2b1ec9d2",
   "metadata": {},
   "outputs": [
    {
     "name": "stdout",
     "output_type": "stream",
     "text": [
      "5\n",
      "3.0\n",
      "12\n",
      "2\n",
      "3\n",
      "81\n",
      "6.5\n"
     ]
    }
   ],
   "source": [
    "print(2+3)\n",
    "print(6/2)\n",
    "print(3*4)\n",
    "print(6-4)\n",
    "print(6//2)\n",
    "print(3**4)\n",
    "print(3**2/2*3/3+6-4)"
   ]
  },
  {
   "cell_type": "markdown",
   "id": "89bec6bd",
   "metadata": {},
   "source": [
    "**above are the operators **"
   ]
  },
  {
   "cell_type": "markdown",
   "id": "f5404526",
   "metadata": {},
   "source": [
    "**03 stringd**"
   ]
  },
  {
   "cell_type": "code",
   "execution_count": 3,
   "id": "ed1a9831",
   "metadata": {},
   "outputs": [
    {
     "name": "stdout",
     "output_type": "stream",
     "text": [
      "Test for single quotes\n",
      "test for double quotes\n",
      "test for triple quotes\n",
      "What's up?\n"
     ]
    }
   ],
   "source": [
    "print('Test for single quotes')\n",
    "print(\"test for double quotes\")\n",
    "print('''test for triple quotes''')\n",
    "\n",
    "print(\"What's up?\") "
   ]
  }
 ],
 "metadata": {
  "kernelspec": {
   "display_name": "Python 3 (ipykernel)",
   "language": "python",
   "name": "python3"
  },
  "language_info": {
   "codemirror_mode": {
    "name": "ipython",
    "version": 3
   },
   "file_extension": ".py",
   "mimetype": "text/x-python",
   "name": "python",
   "nbconvert_exporter": "python",
   "pygments_lexer": "ipython3",
   "version": "3.11.5"
  }
 },
 "nbformat": 4,
 "nbformat_minor": 5
}
