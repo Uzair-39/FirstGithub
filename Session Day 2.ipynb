{
 "cells": [
  {
   "cell_type": "markdown",
   "id": "cefce5e6",
   "metadata": {},
   "source": [
    "# how to calculate BMI"
   ]
  },
  {
   "cell_type": "code",
   "execution_count": 1,
   "id": "91011a27",
   "metadata": {},
   "outputs": [],
   "source": [
    "# calculate body mass index BMI\n",
    "# input weight\n",
    "# height\n",
    "# BMI of yourself by your hieght\n",
    "# your weight\n",
    "# calculate BMI\n",
    "#  Print BMI my name is uzair, and my BMI is\n"
   ]
  },
  {
   "cell_type": "code",
   "execution_count": 2,
   "id": "b1da2bdb",
   "metadata": {},
   "outputs": [],
   "source": [
    "#weight in kg/height in meter and its square"
   ]
  },
  {
   "cell_type": "code",
   "execution_count": 20,
   "id": "62e7dff7",
   "metadata": {
    "scrolled": false
   },
   "outputs": [
    {
     "name": "stdout",
     "output_type": "stream",
     "text": [
      "what is your height? 1.72\n"
     ]
    }
   ],
   "source": [
    "height = input(\"what is your height? \")"
   ]
  },
  {
   "cell_type": "code",
   "execution_count": 21,
   "id": "53deec66",
   "metadata": {},
   "outputs": [],
   "source": [
    "height = float(height)"
   ]
  },
  {
   "cell_type": "code",
   "execution_count": 17,
   "id": "e78ba739",
   "metadata": {},
   "outputs": [
    {
     "name": "stdout",
     "output_type": "stream",
     "text": [
      "what is your weight? 65\n"
     ]
    }
   ],
   "source": [
    "weight = input(\"what is your weight? \")"
   ]
  },
  {
   "cell_type": "code",
   "execution_count": 18,
   "id": "699414be",
   "metadata": {},
   "outputs": [],
   "source": [
    "weight = float(weight)"
   ]
  },
  {
   "cell_type": "code",
   "execution_count": 31,
   "id": "c4dd1a7a",
   "metadata": {},
   "outputs": [
    {
     "name": "stdout",
     "output_type": "stream",
     "text": [
      "what is your name? uzair\n"
     ]
    }
   ],
   "source": [
    "name = input(\"what is your name? \")"
   ]
  },
  {
   "cell_type": "code",
   "execution_count": 39,
   "id": "0bb50916",
   "metadata": {},
   "outputs": [
    {
     "data": {
      "text/plain": [
       "21.971335857220122"
      ]
     },
     "execution_count": 39,
     "metadata": {},
     "output_type": "execute_result"
    }
   ],
   "source": [
    "BMI= weight/height**2\n",
    "BMI"
   ]
  },
  {
   "cell_type": "code",
   "execution_count": 40,
   "id": "ff775b21",
   "metadata": {
    "scrolled": true
   },
   "outputs": [
    {
     "name": "stdout",
     "output_type": "stream",
     "text": [
      "my name is uzair and my BMI is 21.971335857220122\n"
     ]
    }
   ],
   "source": [
    "print(\"my name is\",name, \"and my BMI is\", BMI)"
   ]
  },
  {
   "cell_type": "code",
   "execution_count": 3,
   "id": "e3c57eff",
   "metadata": {},
   "outputs": [],
   "source": []
  },
  {
   "cell_type": "code",
   "execution_count": null,
   "id": "802100ae",
   "metadata": {},
   "outputs": [],
   "source": []
  }
 ],
 "metadata": {
  "kernelspec": {
   "display_name": "Python 3 (ipykernel)",
   "language": "python",
   "name": "python3"
  },
  "language_info": {
   "codemirror_mode": {
    "name": "ipython",
    "version": 3
   },
   "file_extension": ".py",
   "mimetype": "text/x-python",
   "name": "python",
   "nbconvert_exporter": "python",
   "pygments_lexer": "ipython3",
   "version": "3.11.5"
  }
 },
 "nbformat": 4,
 "nbformat_minor": 5
}
